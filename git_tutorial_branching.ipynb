{
  "nbformat": 4,
  "nbformat_minor": 0,
  "metadata": {
    "colab": {
      "name": "git-tutorial-branching.ipynb",
      "version": "0.3.2",
      "provenance": [],
      "collapsed_sections": [],
      "include_colab_link": true
    },
    "kernelspec": {
      "name": "python3",
      "display_name": "Python 3"
    }
  },
  "cells": [
    {
      "cell_type": "markdown",
      "metadata": {
        "id": "view-in-github",
        "colab_type": "text"
      },
      "source": [
        "<a href=\"https://colab.research.google.com/github/angelomarcelino/git-tutorial/blob/master/git_tutorial_branching.ipynb\" target=\"_parent\"><img src=\"https://colab.research.google.com/assets/colab-badge.svg\" alt=\"Open In Colab\"/></a>"
      ]
    },
    {
      "cell_type": "code",
      "metadata": {
        "id": "msvTYi3ibqab",
        "colab_type": "code",
        "colab": {}
      },
      "source": [
        "# Criando um repositório local\n",
        "!git config --global user.name SeuNome\n",
        "!git config --global user.email seuemail@email.com\n",
        "!mkdir meu_repo\n",
        "%cd meu_repo\n",
        "!git init\n",
        "!touch helloworld.txt\n",
        "!git add helloworld.txt\n",
        "!git commit -m \"First commit - Hello World!\""
      ],
      "execution_count": 0,
      "outputs": []
    },
    {
      "cell_type": "code",
      "metadata": {
        "id": "qLUw_yRRdFAD",
        "colab_type": "code",
        "colab": {}
      },
      "source": [
        "# Verificando quantos Branches existem\n",
        "!git branch"
      ],
      "execution_count": 0,
      "outputs": []
    },
    {
      "cell_type": "code",
      "metadata": {
        "id": "42BCE-w_eF_Q",
        "colab_type": "code",
        "colab": {}
      },
      "source": [
        "# Criando um novo Branch\n",
        "!git branch novoBranch\n",
        "\n",
        "# Verificando novamente o status de Branches\n",
        "!git branch\n",
        "\n",
        "# Trocando meu ambiente de trabalho para o novoBranch\n",
        "!git checkout novoBranch\n",
        "\n",
        "# Saida esperada: Swichted to branch 'novoBranch'\n",
        "\n",
        "# Esses comandos podem ser abreviados por: \n",
        "# git checkout -b nomeBranch\n",
        "\n",
        "# Verificando novamente o status de Branches\n",
        "!git branch"
      ],
      "execution_count": 0,
      "outputs": []
    },
    {
      "cell_type": "code",
      "metadata": {
        "id": "7yW8F6kffh6e",
        "colab_type": "code",
        "colab": {}
      },
      "source": [
        "# Faremos mudanças no arquivo\n",
        "%%writefile helloworld.txt\n",
        "Olá mundo"
      ],
      "execution_count": 0,
      "outputs": []
    },
    {
      "cell_type": "code",
      "metadata": {
        "id": "JEecVPBwhLsN",
        "colab_type": "code",
        "colab": {}
      },
      "source": [
        "# Fazendo mudança(s)\n",
        "!git commit -am \"Second Commit - First Commit on novoBranch\""
      ],
      "execution_count": 0,
      "outputs": []
    },
    {
      "cell_type": "code",
      "metadata": {
        "id": "oNl3qQ3GhT2I",
        "colab_type": "code",
        "colab": {}
      },
      "source": [
        "# Observando o log\n",
        "!git log --graph"
      ],
      "execution_count": 0,
      "outputs": []
    },
    {
      "cell_type": "code",
      "metadata": {
        "id": "H-UAZyf0hquI",
        "colab_type": "code",
        "colab": {}
      },
      "source": [
        "# Simulando trabalho em equipe\n",
        "!git checkout master\n",
        "!touch arquivoMaster.txt\n",
        "!git add arquivoMaster.txt\n",
        "!git commit -m \"Third Commit - Second Master Commit\"\n",
        "\n",
        "# Obervando a historia de cada Banch\n",
        "!git log --graph\n",
        "!git checkout novoBranch\n",
        "!git log --graph"
      ],
      "execution_count": 0,
      "outputs": []
    },
    {
      "cell_type": "code",
      "metadata": {
        "id": "JtrI8t97us-i",
        "colab_type": "code",
        "colab": {}
      },
      "source": [
        "# Fazendo o Merge entre os nossos Branches\n",
        "!git checkout master\n",
        "!git merge novoBranch -m \"Merge Example\"\n",
        "\n",
        "# Observando a nova História do Master\n",
        "!git log --graph"
      ],
      "execution_count": 0,
      "outputs": []
    },
    {
      "cell_type": "code",
      "metadata": {
        "id": "W-zbe4Xj6mzh",
        "colab_type": "code",
        "colab": {}
      },
      "source": [
        "# Agora removeremos o branch\n",
        "!git branch -d novoBranch\n",
        "!git branch\n",
        "!git checkout novoBranch\n"
      ],
      "execution_count": 0,
      "outputs": []
    },
    {
      "cell_type": "code",
      "metadata": {
        "id": "pjwPgvaW73oW",
        "colab_type": "code",
        "colab": {}
      },
      "source": [
        "# Simulação de continuidade de trabalho\n",
        "%%writefile arquivoMaster.txt\n",
        "Adeus novoBranch :'("
      ],
      "execution_count": 0,
      "outputs": []
    },
    {
      "cell_type": "code",
      "metadata": {
        "id": "h5d9A-2K76em",
        "colab_type": "code",
        "colab": {}
      },
      "source": [
        "# Fazendo mudança(s)\n",
        "!git commit -am \"Fourth Commit - Adeus novoBranch\"\n",
        "\n",
        "# Verificando a história\n",
        "!git log --graph"
      ],
      "execution_count": 0,
      "outputs": []
    }
  ]
}