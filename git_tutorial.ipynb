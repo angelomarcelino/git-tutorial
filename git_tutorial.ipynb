{
  "nbformat": 4,
  "nbformat_minor": 0,
  "metadata": {
    "colab": {
      "name": "git-tutorial.ipynb",
      "version": "0.3.2",
      "provenance": [],
      "include_colab_link": true
    },
    "kernelspec": {
      "name": "python3",
      "display_name": "Python 3"
    }
  },
  "cells": [
    {
      "cell_type": "markdown",
      "metadata": {
        "id": "view-in-github",
        "colab_type": "text"
      },
      "source": [
        "<a href=\"https://colab.research.google.com/github/angelomarcelino/git-tutorial/blob/master/git_tutorial.ipynb\" target=\"_parent\"><img src=\"https://colab.research.google.com/assets/colab-badge.svg\" alt=\"Open In Colab\"/></a>"
      ]
    },
    {
      "cell_type": "code",
      "metadata": {
        "id": "vGpywpD_xI-K",
        "colab_type": "code",
        "colab": {}
      },
      "source": [
        "# Comando para instalar o Git num ambiente Linux\n",
        "\n",
        "!sudo apt-get install git"
      ],
      "execution_count": 0,
      "outputs": []
    },
    {
      "cell_type": "code",
      "metadata": {
        "id": "NcfMhZnrzoaB",
        "colab_type": "code",
        "colab": {}
      },
      "source": [
        "# Verificando se o Git está instalado\n",
        "\n",
        "!git --version\n",
        "\n",
        "# Saída esperada: Git version 2.xx.x"
      ],
      "execution_count": 0,
      "outputs": []
    },
    {
      "cell_type": "code",
      "metadata": {
        "id": "ygZDoR8I0Y-I",
        "colab_type": "code",
        "colab": {}
      },
      "source": [
        "# Definindo o nome do usuário global do Git\n",
        "\n",
        "!git config --global user.name <seu_nome>\n",
        "!git config --global user.name"
      ],
      "execution_count": 0,
      "outputs": []
    },
    {
      "cell_type": "code",
      "metadata": {
        "id": "GkM1xgPp0jTA",
        "colab_type": "code",
        "colab": {}
      },
      "source": [
        "# Definindo o e-mail do usuário global do Git\n",
        "\n",
        "!git config --global user.email <seu_email>\n",
        "!git config --global user.email"
      ],
      "execution_count": 0,
      "outputs": []
    },
    {
      "cell_type": "code",
      "metadata": {
        "id": "M7NLaMUR008W",
        "colab_type": "code",
        "colab": {}
      },
      "source": [
        "#\n",
        "!mkdir meu_repo"
      ],
      "execution_count": 0,
      "outputs": []
    },
    {
      "cell_type": "code",
      "metadata": {
        "id": "ynkDhPFI09dI",
        "colab_type": "code",
        "colab": {}
      },
      "source": [
        "!ls"
      ],
      "execution_count": 0,
      "outputs": []
    },
    {
      "cell_type": "code",
      "metadata": {
        "id": "cVJNzVMG1AcD",
        "colab_type": "code",
        "colab": {}
      },
      "source": [
        "%cd meu_repo"
      ],
      "execution_count": 0,
      "outputs": []
    },
    {
      "cell_type": "code",
      "metadata": {
        "id": "ElSOAZso3XqG",
        "colab_type": "code",
        "colab": {}
      },
      "source": [
        "!touch oi.txt"
      ],
      "execution_count": 0,
      "outputs": []
    },
    {
      "cell_type": "code",
      "metadata": {
        "id": "ZGf8wEIF3dlu",
        "colab_type": "code",
        "colab": {}
      },
      "source": [
        "!ls"
      ],
      "execution_count": 0,
      "outputs": []
    }
  ]
}