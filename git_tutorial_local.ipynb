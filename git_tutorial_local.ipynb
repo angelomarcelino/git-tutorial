{
  "nbformat": 4,
  "nbformat_minor": 0,
  "metadata": {
    "colab": {
      "name": "git-tutorial-local.ipynb",
      "version": "0.3.2",
      "provenance": [],
      "collapsed_sections": [],
      "include_colab_link": true
    },
    "kernelspec": {
      "name": "python3",
      "display_name": "Python 3"
    }
  },
  "cells": [
    {
      "cell_type": "markdown",
      "metadata": {
        "id": "view-in-github",
        "colab_type": "text"
      },
      "source": [
        "<a href=\"https://colab.research.google.com/github/angelomarcelino/git-tutorial/blob/master/git_tutorial_local.ipynb\" target=\"_parent\"><img src=\"https://colab.research.google.com/assets/colab-badge.svg\" alt=\"Open In Colab\"/></a>"
      ]
    },
    {
      "cell_type": "code",
      "metadata": {
        "id": "vGpywpD_xI-K",
        "colab_type": "code",
        "colab": {}
      },
      "source": [
        "# Comando para instalar o Git num ambiente Linux\n",
        "\n",
        "!sudo apt-get install git"
      ],
      "execution_count": 0,
      "outputs": []
    },
    {
      "cell_type": "code",
      "metadata": {
        "id": "NcfMhZnrzoaB",
        "colab_type": "code",
        "colab": {}
      },
      "source": [
        "# Verificando se o Git está instalado\n",
        "\n",
        "!git --version\n",
        "\n",
        "# Saída esperada: Git version 2.xx.x"
      ],
      "execution_count": 0,
      "outputs": []
    },
    {
      "cell_type": "code",
      "metadata": {
        "id": "ygZDoR8I0Y-I",
        "colab_type": "code",
        "colab": {}
      },
      "source": [
        "# Definindo o nome do usuário global do Git\n",
        "\n",
        "!git config --global user.name SeuNome\n",
        "!git config --global user.name\n",
        "\n",
        "# Saída esperada: SeuNome"
      ],
      "execution_count": 0,
      "outputs": []
    },
    {
      "cell_type": "code",
      "metadata": {
        "id": "GkM1xgPp0jTA",
        "colab_type": "code",
        "colab": {}
      },
      "source": [
        "# Definindo o e-mail do usuário global do Git\n",
        "\n",
        "!git config --global user.email seuemail@email.com\n",
        "!git config --global user.email\n",
        "\n",
        "# Saída esperada: seuemail@email.com"
      ],
      "execution_count": 0,
      "outputs": []
    },
    {
      "cell_type": "code",
      "metadata": {
        "id": "M7NLaMUR008W",
        "colab_type": "code",
        "colab": {}
      },
      "source": [
        "# Comando de criamento de pastas\n",
        "\n",
        "!mkdir meu_repo\n",
        "\n",
        "# Listar todos os arquivos no diretório atual\n",
        "\n",
        "!ls"
      ],
      "execution_count": 0,
      "outputs": []
    },
    {
      "cell_type": "code",
      "metadata": {
        "id": "cVJNzVMG1AcD",
        "colab_type": "code",
        "colab": {}
      },
      "source": [
        "# \"Entrar\" no diretório criado\n",
        "\n",
        "%cd meu_repo\n",
        "\n",
        "# Iniciando o ambiente Git no repositório criado\n",
        "\n",
        "!git init"
      ],
      "execution_count": 0,
      "outputs": []
    },
    {
      "cell_type": "code",
      "metadata": {
        "id": "ElSOAZso3XqG",
        "colab_type": "code",
        "colab": {}
      },
      "source": [
        "# Criando um arquivo qualuquer\n",
        "\n",
        "!touch helloworld.txt\n",
        "\n",
        "# Verificando se o arquivo foi criado \n",
        "\n",
        "!ls"
      ],
      "execution_count": 0,
      "outputs": []
    },
    {
      "cell_type": "code",
      "metadata": {
        "id": "E-4rlyDjzDyt",
        "colab_type": "code",
        "colab": {}
      },
      "source": [
        "# Verificar o estado atual do Repositório\n",
        "\n",
        "!git status"
      ],
      "execution_count": 0,
      "outputs": []
    },
    {
      "cell_type": "code",
      "metadata": {
        "id": "5TM_tvRkzW0u",
        "colab_type": "code",
        "colab": {}
      },
      "source": [
        "# Adicionar arquivos à Staging Area\n",
        "\n",
        "!git add .\n",
        "\n",
        "!git status"
      ],
      "execution_count": 0,
      "outputs": []
    },
    {
      "cell_type": "code",
      "metadata": {
        "id": "Rxxv1nZWz1ss",
        "colab_type": "code",
        "colab": {}
      },
      "source": [
        "# Criar um novo \"commit\"\n",
        "\n",
        "!git commit -m \"First commit - Hello World!\""
      ],
      "execution_count": 0,
      "outputs": []
    },
    {
      "cell_type": "code",
      "metadata": {
        "id": "Ah4d7GCw1YK_",
        "colab_type": "code",
        "colab": {}
      },
      "source": [
        "# Faremos mudanças no arquivo\n",
        "\n",
        "%%writefile helloworld.txt\n",
        "Olá mundo"
      ],
      "execution_count": 0,
      "outputs": []
    },
    {
      "cell_type": "code",
      "metadata": {
        "id": "czpA-2Rt1uxR",
        "colab_type": "code",
        "colab": {}
      },
      "source": [
        "# Checando as mudanças\n",
        "\n",
        "!git status\n",
        "!git add helloworld.txt\n",
        "!git status\n",
        "!git commit -m \"Second Commit - First Changes\""
      ],
      "execution_count": 0,
      "outputs": []
    },
    {
      "cell_type": "code",
      "metadata": {
        "id": "nQqeEupO2W9z",
        "colab_type": "code",
        "colab": {}
      },
      "source": [
        "# Verificando o versionamento do Git\n",
        "\n",
        "!git log"
      ],
      "execution_count": 0,
      "outputs": []
    },
    {
      "cell_type": "code",
      "metadata": {
        "id": "c3xkpFNtF1bZ",
        "colab_type": "code",
        "colab": {}
      },
      "source": [
        "# Verificando a diferença entre os commits\n",
        "\n",
        "!git diff <commit_a> <commit_b>"
      ],
      "execution_count": 0,
      "outputs": []
    }
  ]
}